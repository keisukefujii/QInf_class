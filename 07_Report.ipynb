{
 "cells": [
  {
   "cell_type": "markdown",
   "metadata": {},
   "source": [
    "# レポート課題：量子系の時間発展のシミュレーションから、エネルギーを推定する\n",
    "\n",
    "一般的に量子系のエネルギー固有値（例えば、最小エネルギー固有値=基底エネルギー）を計算することは難しい。しかし、プログラマブルな量子コンピュータがあれば、量子系のエネルギーを推定することができます。ここでは、量子系のエネルギー時間発展をシミュレーションすることで、エネルギーを推定してみたいと思います。"
   ]
  },
  {
   "cell_type": "markdown",
   "metadata": {},
   "source": [
    "## 課題1:数学的な準備\n",
    "### 課題1-1\n",
    "初期状態としてある量子状態$|\\psi _{\\rm ini}\\rangle$が与えられているとする。この状態に対して、ハミルトニアン、$H$での時間発展を用いて、ハミルトニアン$H$の最小エネルギー固有値を推定したいとしよう。この時，ハミルトニアン$H$の固有状態と固有エネルギーをそれぞれ$|E_i \\rangle$と$E_i$とする．初期状態をエネルギー固有状態で展開すると、\n",
    "$$\n",
    "|\\psi _{\\rm ini} \\rangle = \\sum _i c_i |E_i \\rangle \n",
    "$$\n",
    "とすると、時刻$t$での状態$|\\psi (t)\\rangle = e^{-iHt} |\\psi _{\\rm ini} \\rangle $はエネルギー固有値$E_i$を用いてどのように表されるか．（latexを用いた数式でこここに追記する形で提出してください）\n",
    "\n",
    "### 課題1-2\n",
    "この状態と初期状態との内積\n",
    "$$\n",
    "\\langle \\psi _{\\rm ini} | \\psi (t) \\rangle \n",
    "$$\n",
    "を計算するとどのような形になるか．（latexを用いた数式でこここに追記する形で提出してください）\n",
    "\n",
    "### 考察（これは課題ではありません．上記の課題を問いあた後に得られる式の解説です）\n",
    "このことから，初期状態と時刻$t$の状態の内積の値は，$-E_i$の周波数を持った波が重ね合わさった時系列データになっていることがわかる．これを利用すれば，時系列データのフーリエ変換を計算することで，どのような周波数成分が含まれているかを推定しエネルギーを推定することができる．\n",
    "\n",
    "### 課題1-3\n",
    "フーリエ変換を用いて周波数を推定するためには，時系列データに求めたい周波数の成分を十分大きく含まれている必要がある．これは，初期状態がどのような状態である必要があるか，展開係数$c_i$に言及して説明せよ．\n"
   ]
  },
  {
   "cell_type": "markdown",
   "metadata": {},
   "source": [
    "## 課題２:エネルギー固有値をとめるハミルトニアンの定義とnumpyを使った対角化\n",
    "\n",
    "ランダムにハミルトニアンを生成し、`qulacs observable` として定義します。"
   ]
  },
  {
   "cell_type": "code",
   "execution_count": 127,
   "metadata": {},
   "outputs": [],
   "source": [
    "import numpy as np\n",
    "import matplotlib.pyplot as plt\n",
    "from qulacs import QuantumState, Observable, QuantumCircuit\n",
    "from qulacs.state import inner_product, tensor_product\n",
    "\n",
    "# 4体のパウリ演算子までを含むハミルトニアン\n",
    "# n_qubits 量子ビット数\n",
    "# ハミルトニアンに含まれる項の数\n",
    "def generate_random_hamiltonian(n_qubits, num_terms):\n",
    "    pauli_terms = ['I', 'X', 'Y', 'Z']\n",
    "    hamiltonian = Observable(n_qubits)\n",
    "\n",
    "    for _ in range(num_terms):\n",
    "        num_paulis = np.random.randint(1, 5)  # Number of Pauli operators (up to 4)\n",
    "        coefficient = np.random.uniform(-1, 1)  # Random coefficient between -1 and 1\n",
    "        term = \"\"\n",
    "\n",
    "        for i in range(n_qubits):\n",
    "            if num_paulis > 0 and np.random.rand() > 0.5:\n",
    "                pauli_op = np.random.choice(pauli_terms[1:])  # Random Pauli (X, Y, Z)\n",
    "                term += f\"{pauli_op} {i} \"\n",
    "                num_paulis -= 1\n",
    "\n",
    "        if term.strip():  # Check if term is not empty\n",
    "            hamiltonian.add_operator(coefficient, term.strip())\n",
    "\n",
    "    return hamiltonian"
   ]
  },
  {
   "cell_type": "code",
   "execution_count": 128,
   "metadata": {},
   "outputs": [
    {
     "name": "stdout",
     "output_type": "stream",
     "text": [
      "0.407333 Y 0 + -0.534041 X 1 + -0.969555 Z 0 + -0.196327 Y 1 + 0.653626 Y 1\n"
     ]
    }
   ],
   "source": [
    "nqubits = 2  # 量子ビット数\n",
    "num_terms = 10 #項の数\n",
    "hamiltonian = generate_random_hamiltonian(nqubits, num_terms)\n",
    "print(hamiltonian)"
   ]
  },
  {
   "cell_type": "markdown",
   "metadata": {},
   "source": [
    "答え合わせができるように、`numpy array`に一度変換し、numpyの対角化を用いてエネルギー固有値を全て事前に計算しておきます。"
   ]
  },
  {
   "cell_type": "code",
   "execution_count": 129,
   "metadata": {},
   "outputs": [],
   "source": [
    "# qulacs observable を numpy arrayに変換する関数\n",
    "def observable_to_numpy_array(observable, n_qubits):\n",
    "    matrix = np.zeros((2**n_qubits, 2**n_qubits), dtype=complex)\n",
    "    for i in range(observable.get_term_count()):\n",
    "        coef = observable.get_term(i).get_coef()\n",
    "        pauli_id_list = observable.get_term(i).get_pauli_id_list()\n",
    "        pauli_index_list = observable.get_term(i).get_index_list()\n",
    "        temp_operator = Observable(n_qubits)\n",
    "        temp_operator.add_operator(coef, \" \".join(f\"{['I', 'X', 'Y', 'Z'][pauli_id]} {index}\" for pauli_id, index in zip(pauli_id_list, pauli_index_list)))\n",
    "        matrix += temp_operator.get_matrix()\n",
    "    return matrix"
   ]
  },
  {
   "cell_type": "code",
   "execution_count": 132,
   "metadata": {},
   "outputs": [],
   "source": [
    "hamiltonian_array = observable_to_numpy_array(hamiltonian,nqubits)"
   ]
  },
  {
   "cell_type": "markdown",
   "metadata": {},
   "source": [
    "### 課題2-1 \n",
    "変換された numpy arrayの行列を `np.linalg.eigh()`を用いて固有値と固有ベクトルを計算し，固有値を全て書き出し，その最小値を求めよ．ただし、第一成分は固有値の配列、第二成分は固有ベクトルの配列となっている．\n",
    "`eigenvalues, eigenvectors = np.linalg.eigh(対角化したい行列をここに入れる)`"
   ]
  },
  {
   "cell_type": "markdown",
   "metadata": {},
   "source": [
    "### 後処理\n",
    "エネルギーが負の値を取ると議論が複雑になるので、今回は適当にエネルギーをシフトしておき、エネルギー固有値が全て正になるようにしておく．"
   ]
  },
  {
   "cell_type": "code",
   "execution_count": 134,
   "metadata": {},
   "outputs": [],
   "source": [
    "energy_shift = 6\n",
    "#ハミルトニアンのエネルギーのシフト\n",
    "hamiltonian.add_operator(energy_shift ,f\"I {0}\")      "
   ]
  },
  {
   "cell_type": "markdown",
   "metadata": {},
   "source": [
    "### 課題2-2\n",
    "シフトされたハミルトニアンのエネルギー固有値を2-1と同様に計算し、エネルギーが正になっていることを確認せよ．このシフトされたエネルギーの最小値が今求めたい値の答えである．"
   ]
  },
  {
   "cell_type": "markdown",
   "metadata": {},
   "source": [
    "## 課題3:最小エネルギー固有状態の高い確率で含む初期状態の生成\n",
    "\n",
    "最小エネルギー状態（基底状態）の固有値を推定したければ，初期状態が対応する固有状態の成分を十分に含んでいる必要がある．このような状態を生成する方法として，第五回の授業で利用したQAOAを用いよう．横磁場項と基底状態を知りたい問題ハミルトニアンを用いて、変分法によってエネルギー期待値が最小化されるような量子回路を作る．\n",
    "\n",
    "### 課題3-1:以下を実行せよ．"
   ]
  },
  {
   "cell_type": "code",
   "execution_count": null,
   "metadata": {},
   "outputs": [],
   "source": [
    "import scipy.optimize\n",
    "from qulacs import QuantumState\n",
    "from qulacs.gate import H,S,Sdag, sqrtX,sqrtXdag,sqrtY,sqrtYdag #1量子ビット Clifford演算\n",
    "from qulacs import QuantumCircuit\n",
    "from qulacs.state import inner_product, tensor_product\n",
    "\n",
    "#横磁場項の追加\n",
    "def add_X_fields(operator):\n",
    "    nqubits = operator.get_qubit_count()\n",
    "    for k in range(nqubits):\n",
    "        operator.add_operator(1.0,\"X {0}\".format(k)) \n",
    "    return operator\n",
    "\n",
    "#ハミルトニアンの期待値（イジング模型のエネルギーの期待値）を計算\n",
    "def cost_QAOA(parameter_list,hamiltonian,driver_hamiltonian,num_layers):\n",
    "    nqubits = hamiltonian.get_qubit_count()\n",
    "    state = QuantumState(nqubits)\n",
    "    \n",
    "    for i in range(nqubits):\n",
    "        H(i).update_quantum_state(state)\n",
    "    define_QAOA_ansatz(parameter_list,hamiltonian,driver_hamiltonian,num_layers).update_quantum_state(state)\n",
    "    return hamiltonian.get_expectation_value(state)\n",
    "\n",
    "def define_QAOA_ansatz(parameter_list,Ising_hamiltonian,driver_hamiltonian,num_layers):\n",
    "        nqubits = Ising_hamiltonian.get_qubit_count()\n",
    "        circuit=QuantumCircuit(nqubits)\n",
    "        for i in range(num_layers):\n",
    "            circuit.add_observable_rotation_gate(Ising_hamiltonian,parameter_list[2*i],1)\n",
    "            circuit.add_observable_rotation_gate(driver_hamiltonian,parameter_list[2*i+1],1)\n",
    "        return circuit    \n",
    "\n",
    "#レイヤー数\n",
    "layer = 10\n",
    "\n",
    "#driverハミルトニアンの定義\n",
    "driver_hamiltonian = Observable(nqubits)\n",
    "driver_hamiltonian = add_X_fields(driver_hamiltonian)\n",
    "\n",
    "def cost(parameter_list):\n",
    "    return cost_QAOA(parameter_list,hamiltonian,driver_hamiltonian,layer)\n",
    "\n",
    "    \n",
    "cost_history = []\n",
    "\n",
    "# 黒魔術で初期パラメータを決めておく（かなり良い初期値からスタートできる）\n",
    "alpha_Ising = 0.3\n",
    "alpha_z = 1.2\n",
    "\n",
    "bias_Ising= 0.2\n",
    "bias_z = 1.5\n",
    "\n",
    "gamma = [-bias_Ising- (alpha_Ising/layer)*i for i in range(layer)]\n",
    "beta = [bias_z - (alpha_z/layer) * i for i in range(layer)]\n",
    "init_theta_list = []\n",
    "for i in range(layer):\n",
    "    init_theta_list.append(gamma[i])\n",
    "    init_theta_list.append(beta[i])\n",
    "    \n",
    "    \n",
    "\n",
    "#init_theta_list = [random.random() for i in range(layer*2)]\n",
    "\n",
    "\n",
    "cost_history.append(cost(init_theta_list))\n",
    "method = \"BFGS\"\n",
    "options = {\"disp\": True, \"maxiter\": 200, \"gtol\": 1e-3}\n",
    "\n",
    "\n",
    "opt = scipy.optimize.minimize(cost, init_theta_list,\n",
    "               method=method,\n",
    "               callback=lambda x: cost_history.append(cost(x)),options = options)\n",
    "\n",
    "plt.rcParams[\"font.size\"] = 18\n",
    "plt.plot(cost_history, color=\"red\", label=\"QAOA\")\n",
    "plt.xlabel(\"Iteration\")\n",
    "plt.ylabel(\"cost function expectation value\")\n",
    "plt.legend()\n",
    "plt.show()\n"
   ]
  },
  {
   "cell_type": "markdown",
   "metadata": {},
   "source": [
    "実行後、最終的に見つかった回路のパラメータは、`opt.x`に格納されている．このパラメータを用いて定義される量子回路は\n",
    "`define_QAOA_ansatz(opt.x,hamiltonian,driver_hamiltonian,layer)`なのでこの回路を用いて`optimized_state`に基底状態を多く含むであろう状態を生成しておく。"
   ]
  },
  {
   "cell_type": "code",
   "execution_count": 140,
   "metadata": {},
   "outputs": [],
   "source": [
    "optimized_state = QuantumState(nqubits)\n",
    "\n",
    "for i in range(nqubits):\n",
    "        H(i).update_quantum_state(optimized_state)\n",
    "\n",
    "define_QAOA_ansatz(opt.x,hamiltonian,driver_hamiltonian,layer).update_quantum_state(optimized_state)"
   ]
  },
  {
   "cell_type": "markdown",
   "metadata": {},
   "source": [
    "## 課題4:時系列データのフーリエ変換によってエネルギー最小値を推定する\n",
    "\n",
    "### 課題4-1：先ほど準備した状態を初期状態として、時間発展演算子を作用させ、初期状態との内積を計算し、時系列データ（実部と虚部）をプロットするグラフを表示せよ．"
   ]
  },
  {
   "cell_type": "code",
   "execution_count": null,
   "metadata": {},
   "outputs": [],
   "source": [
    "#時間発展を作用させる状態\n",
    "state = QuantumState(nqubits)\n",
    "\n",
    "#初期状態を先ほど計算した状態に設定 |psi _ini>\n",
    "ini_state = QuantumState(nqubits)\n",
    "ini_state = optimized_state.copy()\n",
    "\n",
    "#時間発展を作用させる状態を初期化 |psi(0)> = |psi _ini>\n",
    "state=ini_state.copy()\n",
    "\n",
    "# 時間発展のパラメータ\n",
    "T = 100.0         # 全時間\n",
    "N_t = 1000       # 時間ステップ数\n",
    "dt = T / N_t     # 時間ステップ幅\n",
    "num_trotter_steps = 100 #トロッター分割数\n",
    "times = np.linspace(0, T, N_t)\n",
    "\n",
    "\n",
    "# 時間発展ゲートの作成\n",
    "time_evolution = QuantumCircuit(nqubits)\n",
    "time_evolution.add_observable_rotation_gate(hamiltonian,-2*dt,num_trotter_steps)\n",
    "\n",
    "# エネルギーの時系列データを保存する配列\n",
    "overlap_re = np.zeros(N_t)\n",
    "overlap_im = np.zeros(N_t)\n",
    "\n",
    "# 時間発展とエネルギー計算のループ\n",
    "for i in range(N_t):\n",
    "    # エネルギーの期待値を計算\n",
    "    overlap_re[i] = inner_product(ini_state,state).real\n",
    "    overlap_im[i] = -inner_product(ini_state,state).imag #エネルギーが正の周波数になるように、複素共役をとっておく\n",
    "    # 状態の時間発展\n",
    "    time_evolution.update_quantum_state(state)\n",
    "\n",
    "plt.plot(times,overlap_re)\n",
    "plt.plot(times,overlap_im)\n",
    "plt.show()\n"
   ]
  },
  {
   "cell_type": "markdown",
   "metadata": {},
   "source": [
    "### 課題4-2 \n",
    "以下のフーリエ変換を実行し，基底状態のエネルギー（最も小さな周波数成分）を推定し，対角化で厳密に計算した値と比較せよ．うまくいかない場合は、$T$や`optimized_state`をやり直すなどをしてみてください．"
   ]
  },
  {
   "cell_type": "code",
   "execution_count": null,
   "metadata": {},
   "outputs": [],
   "source": [
    "from scipy.signal import find_peaks\n",
    "# 複素数のオーバーラップを計算\n",
    "overlap = overlap_re + 1j * overlap_im\n",
    "\n",
    "# フーリエ変換を実行\n",
    "overlap_fft = np.fft.fft(overlap)\n",
    "freqs = np.fft.fftfreq(N_t, dt)\n",
    "\n",
    "# フーリエスペクトルをシフトして中心にゼロ周波数を持ってくる\n",
    "overlap_fft_shifted = np.fft.fftshift(overlap_fft)\n",
    "freqs_shifted = np.fft.fftshift(freqs)\n",
    "\n",
    "# スペクトルの絶対値を計算\n",
    "spectrum = np.abs(overlap_fft_shifted)\n",
    "\n",
    "# スペクトルをプロット\n",
    "plt.xlim(0, 5)\n",
    "plt.plot(freqs_shifted, spectrum)\n",
    "plt.xlabel('Frequency')\n",
    "plt.ylabel('Spectrum Magnitude')\n",
    "plt.title('Fourier Transform of Overlap Function')\n",
    "plt.show()\n",
    "\n",
    "# ピークのインデックスを取得\n",
    "peak_idx = np.argmax(spectrum)\n",
    "\n",
    "# 対応する周波数を取得\n",
    "peak_freq = freqs_shifted[peak_idx]\n",
    "\n",
    "# スペクトル内のピークを検出\n",
    "peaks, properties = find_peaks(spectrum, height=0)\n",
    "\n",
    "# ピークに対応する周波数を取得\n",
    "peak_freqs = freqs_shifted[peaks]\n",
    "peak_magnitudes = spectrum[peaks]\n",
    "\n",
    "# 正の周波数のみを考慮（エネルギーは正と仮定）\n",
    "positive_freq_indices = np.where(peak_freqs > 0)\n",
    "positive_peak_freqs = peak_freqs[positive_freq_indices]\n",
    "positive_peak_magnitudes = peak_magnitudes[positive_freq_indices]\n",
    "\n",
    "\n",
    "\n",
    "# 最小の正の周波数を持つピークを見つける\n",
    "if len(positive_peak_freqs) > 0:\n",
    "    min_energy_index = np.argmin(positive_peak_freqs)\n",
    "    estimated_energy = positive_peak_freqs[min_energy_index]\n",
    "    print(\"推定された最小エネルギー: \", estimated_energy*2*np.pi)\n",
    "else:\n",
    "    print(\"正の周波数のピークが見つかりませんでした。\")"
   ]
  },
  {
   "cell_type": "markdown",
   "metadata": {},
   "source": [
    "## 課題5：\n",
    "上記のコード量子ビット数を5,10に変えて実行して結果を考察せよ．"
   ]
  },
  {
   "cell_type": "markdown",
   "metadata": {},
   "source": [
    "## 課題6: \n",
    "授業の感想や要望をここに記載してください。"
   ]
  },
  {
   "cell_type": "markdown",
   "metadata": {},
   "source": []
  }
 ],
 "metadata": {
  "kernelspec": {
   "display_name": "Python 3",
   "language": "python",
   "name": "python3"
  },
  "language_info": {
   "codemirror_mode": {
    "name": "ipython",
    "version": 3
   },
   "file_extension": ".py",
   "mimetype": "text/x-python",
   "name": "python",
   "nbconvert_exporter": "python",
   "pygments_lexer": "ipython3",
   "version": "3.9.6"
  }
 },
 "nbformat": 4,
 "nbformat_minor": 2
}
