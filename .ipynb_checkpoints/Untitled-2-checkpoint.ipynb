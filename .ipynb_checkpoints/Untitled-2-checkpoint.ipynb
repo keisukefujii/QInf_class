{
 "cells": [
  {
   "cell_type": "code",
   "execution_count": null,
   "metadata": {},
   "outputs": [
    {
     "ename": "",
     "evalue": "",
     "output_type": "error",
     "traceback": [
      "\u001b[1;31mPython 環境 'Python 3.12.4' を使用できなくなったため、カーネルを起動できませんでした。別のカーネルを選択するか、Python 環境の一覧を更新することを検討してください。"
     ]
    }
   ],
   "source": [
    "# 必要なライブラリのインポート\n",
    "import numpy as np\n",
    "import matplotlib.pyplot as plt\n",
    "import matplotlib.animation as animation\n",
    "from ipywidgets import interact, FloatSlider\n",
    "from IPython.display import display, clear_output\n",
    "\n",
    "# %matplotlib notebook を使用して、Jupyter環境でアニメーションが正しく表示されるように設定\n",
    "%matplotlib notebook\n",
    "\n",
    "# シミュレーションのパラメータ設定\n",
    "L = 50  # 格子のサイズ\n",
    "steps = 1000  # モンテカルロステップ数\n",
    "J = 1  # 相互作用定数\n",
    "\n",
    "# イジング模型のクラス定義\n",
    "class IsingModel:\n",
    "    def __init__(self, L, T):\n",
    "        self.L = L\n",
    "        self.T = T\n",
    "        self.spin = np.random.choice([-1, 1], size=(L, L))\n",
    "        self.magnetization = []\n",
    "\n",
    "    def monte_carlo_step(self):\n",
    "        for _ in range(self.L * self.L):\n",
    "            i = np.random.randint(0, self.L)\n",
    "            j = np.random.randint(0, self.L)\n",
    "            s = self.spin[i, j]\n",
    "            nb = self.spin[(i+1)%self.L, j] + self.spin[i, (j+1)%self.L] + \\\n",
    "                 self.spin[(i-1)%self.L, j] + self.spin[i, (j-1)%self.L]\n",
    "            dE = 2 * J * s * nb\n",
    "            if dE < 0 or np.random.rand() < np.exp(-dE / self.T):\n",
    "                self.spin[i, j] *= -1\n",
    "\n",
    "    def simulate(self, steps):\n",
    "        for _ in range(steps):\n",
    "            self.monte_carlo_step()\n",
    "            m = np.abs(np.sum(self.spin)) / (self.L * self.L)\n",
    "            self.magnetization.append(m)\n",
    "\n",
    "# シミュレーションと可視化の関数定義\n",
    "def run_simulation(T):\n",
    "    model = IsingModel(L, T)\n",
    "    fig, (ax1, ax2) = plt.subplots(1, 2, figsize=(12, 5))\n",
    "    ims = []\n",
    "\n",
    "    for step in range(steps):\n",
    "        model.monte_carlo_step()\n",
    "        if step % 10 == 0:\n",
    "            im = ax1.imshow(model.spin, animated=True, cmap='coolwarm')\n",
    "            ims.append([im])\n",
    "\n",
    "        m = np.abs(np.sum(model.spin)) / (model.L * model.L)\n",
    "        model.magnetization.append(m)\n",
    "\n",
    "    ani = animation.ArtistAnimation(fig, ims, interval=50, blit=True)\n",
    "    ax1.set_title('スピン配置')\n",
    "    ax1.axis('off')\n",
    "    ax2.set_title('磁化の平均値')\n",
    "    ax2.set_xlabel('ステップ数')\n",
    "    ax2.set_ylabel('磁化')\n",
    "    ax2.plot(model.magnetization)\n",
    "    plt.show()\n",
    "\n",
    "# インタラクティブなスライダーの設定\n",
    "slider = FloatSlider(min=0.1, max=5.0, step=0.1, value=2.5, description='温度 T')\n",
    "\n",
    "def interactive_simulation(T):\n",
    "    clear_output(wait=True)\n",
    "    run_simulation(T)\n",
    "\n",
    "interact(interactive_simulation, T=slider)\n"
   ]
  },
  {
   "cell_type": "code",
   "execution_count": null,
   "metadata": {},
   "outputs": [],
   "source": []
  }
 ],
 "metadata": {
  "kernelspec": {
   "display_name": "Python 3",
   "language": "python",
   "name": "python3"
  },
  "language_info": {
   "codemirror_mode": {
    "name": "ipython",
    "version": 3
   },
   "file_extension": ".py",
   "mimetype": "text/x-python",
   "name": "python",
   "nbconvert_exporter": "python",
   "pygments_lexer": "ipython3",
   "version": "3.12.4"
  }
 },
 "nbformat": 4,
 "nbformat_minor": 2
}
